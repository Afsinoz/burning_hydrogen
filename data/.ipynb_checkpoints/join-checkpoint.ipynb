{
 "cells": [
  {
   "cell_type": "code",
   "execution_count": 260,
   "id": "b0500625",
   "metadata": {},
   "outputs": [],
   "source": [
    "import pandas as pd"
   ]
  },
  {
   "cell_type": "code",
   "execution_count": 261,
   "id": "42effa0c",
   "metadata": {},
   "outputs": [],
   "source": [
    "chlor = pd.read_csv('monthly_chlor_a.csv')"
   ]
  },
  {
   "cell_type": "code",
   "execution_count": 262,
   "id": "8ec70c64",
   "metadata": {},
   "outputs": [],
   "source": [
    "chlor"
   ]
  },
  {
   "cell_type": "code",
   "execution_count": 263,
   "id": "39144eec",
   "metadata": {},
   "outputs": [],
   "source": [
    "chlor['chlor_a'] = chlor['chlor_a'].astype('Float64')"
   ]
  },
  {
   "cell_type": "code",
   "execution_count": 264,
   "id": "6191d352",
   "metadata": {},
   "outputs": [],
   "source": [
    "chlor.drop('Unnamed: 0', axis=1, inplace=True)"
   ]
  },
  {
   "cell_type": "code",
   "execution_count": 265,
   "id": "402a0d34",
   "metadata": {},
   "outputs": [],
   "source": [
    "chlor"
   ]
  },
  {
   "cell_type": "code",
   "execution_count": 266,
   "id": "2d13e883",
   "metadata": {},
   "outputs": [],
   "source": [
    "sst = pd.read_csv('mean_sst_subgrids.csv')"
   ]
  },
  {
   "cell_type": "code",
   "execution_count": 267,
   "id": "094ff5f4",
   "metadata": {},
   "outputs": [],
   "source": [
    "sst"
   ]
  },
  {
   "cell_type": "code",
   "execution_count": 268,
   "id": "21f3a106",
   "metadata": {},
   "outputs": [],
   "source": [
    "sst['sst']"
   ]
  },
  {
   "cell_type": "code",
   "execution_count": 269,
   "id": "d31fe42b",
   "metadata": {},
   "outputs": [],
   "source": [
    "sst.replace('--', pd.NA, inplace=True)"
   ]
  },
  {
   "cell_type": "code",
   "execution_count": 270,
   "id": "75938d77",
   "metadata": {},
   "outputs": [],
   "source": [
    "sst"
   ]
  },
  {
   "cell_type": "code",
   "execution_count": 271,
   "id": "777e6f97",
   "metadata": {},
   "outputs": [],
   "source": [
    "sst['sst'] = sst['sst'].astype(dtype='Float64')"
   ]
  },
  {
   "cell_type": "code",
   "execution_count": 272,
   "id": "5f9477da",
   "metadata": {},
   "outputs": [],
   "source": [
    "sst"
   ]
  },
  {
   "cell_type": "code",
   "execution_count": 273,
   "id": "99557bf8",
   "metadata": {},
   "outputs": [],
   "source": [
    "sst['time']"
   ]
  },
  {
   "cell_type": "code",
   "execution_count": 274,
   "id": "e5384259",
   "metadata": {},
   "outputs": [],
   "source": [
    "sst['time'] = pd.to_datetime(sst['time'])"
   ]
  },
  {
   "cell_type": "code",
   "execution_count": 275,
   "id": "c229b2da",
   "metadata": {},
   "outputs": [],
   "source": [
    "sst"
   ]
  },
  {
   "cell_type": "code",
   "execution_count": 276,
   "id": "c7b96ebb",
   "metadata": {},
   "outputs": [],
   "source": [
    "sst['time']"
   ]
  },
  {
   "cell_type": "code",
   "execution_count": 277,
   "id": "ad53cba3",
   "metadata": {},
   "outputs": [],
   "source": [
    "sst['year'] = sst['time'].dt.year"
   ]
  },
  {
   "cell_type": "code",
   "execution_count": 278,
   "id": "0d78a480",
   "metadata": {},
   "outputs": [],
   "source": [
    "sst"
   ]
  },
  {
   "cell_type": "code",
   "execution_count": 279,
   "id": "6bb0194b",
   "metadata": {},
   "outputs": [],
   "source": [
    "sst['month'] = sst['time'].dt.month"
   ]
  },
  {
   "cell_type": "code",
   "execution_count": 280,
   "id": "86376104",
   "metadata": {},
   "outputs": [],
   "source": [
    "sst"
   ]
  },
  {
   "cell_type": "code",
   "execution_count": 281,
   "id": "6a23006f",
   "metadata": {},
   "outputs": [],
   "source": [
    "sst['lon'] = sst['lon'] + 4.5"
   ]
  },
  {
   "cell_type": "code",
   "execution_count": 282,
   "id": "bc0c38be",
   "metadata": {},
   "outputs": [],
   "source": [
    "sst"
   ]
  },
  {
   "cell_type": "code",
   "execution_count": 283,
   "id": "08c0e14f",
   "metadata": {},
   "outputs": [],
   "source": [
    "sst['lon'] = sst['lon'].astype(int)"
   ]
  },
  {
   "cell_type": "code",
   "execution_count": 284,
   "id": "56e731b3",
   "metadata": {},
   "outputs": [],
   "source": [
    "sst"
   ]
  },
  {
   "cell_type": "code",
   "execution_count": 285,
   "id": "34f4dcd7",
   "metadata": {},
   "outputs": [],
   "source": [
    "sst['lat'] = (sst['lat'] + 0.5).astype(int)"
   ]
  },
  {
   "cell_type": "code",
   "execution_count": 286,
   "id": "9e392cdd",
   "metadata": {},
   "outputs": [],
   "source": [
    "sst"
   ]
  },
  {
   "cell_type": "code",
   "execution_count": 287,
   "id": "e4901c14",
   "metadata": {},
   "outputs": [],
   "source": [
    "sst = sst.drop('time', axis=1)"
   ]
  },
  {
   "cell_type": "code",
   "execution_count": 288,
   "id": "9a285a96",
   "metadata": {},
   "outputs": [],
   "source": [
    "sst"
   ]
  },
  {
   "cell_type": "code",
   "execution_count": 289,
   "id": "b5f7dffc",
   "metadata": {},
   "outputs": [],
   "source": [
    "sst = sst.replace('--', value=pd.NA)"
   ]
  },
  {
   "cell_type": "code",
   "execution_count": 290,
   "id": "1eed2d8c",
   "metadata": {},
   "outputs": [],
   "source": [
    "sst.rename({\n",
    "    'lon': 'lon_rounded_up',\n",
    "    'lat': 'lat_rounded_up'\n",
    "}, axis=1, inplace=True)"
   ]
  },
  {
   "cell_type": "code",
   "execution_count": 291,
   "id": "c3a05c8c",
   "metadata": {},
   "outputs": [],
   "source": [
    "sst"
   ]
  },
  {
   "cell_type": "code",
   "execution_count": 292,
   "id": "206134dd",
   "metadata": {},
   "outputs": [],
   "source": [
    "full_df = pd.merge(chlor, sst, on=['lon_rounded_up', 'lat_rounded_up', 'month', 'year'], how='inner')"
   ]
  },
  {
   "cell_type": "code",
   "execution_count": 293,
   "id": "a3b7db11",
   "metadata": {},
   "outputs": [],
   "source": [
    "full_df"
   ]
  },
  {
   "cell_type": "code",
   "execution_count": 294,
   "id": "1b6a5b04",
   "metadata": {},
   "outputs": [],
   "source": [
    "pd.set_option('display.max_rows', 500)\n",
    "full_df.head(500)"
   ]
  },
  {
   "cell_type": "code",
   "execution_count": 295,
   "id": "4bb66a6c",
   "metadata": {},
   "outputs": [],
   "source": [
    "depth = pd.read_csv('Mean_Depth_Data.csv')"
   ]
  },
  {
   "cell_type": "code",
   "execution_count": 296,
   "id": "2eb85e3b",
   "metadata": {},
   "outputs": [],
   "source": [
    "depth"
   ]
  },
  {
   "cell_type": "code",
   "execution_count": 297,
   "id": "43d64db7",
   "metadata": {},
   "outputs": [],
   "source": [
    "depth.drop('Unnamed: 0', axis=1, inplace=True)"
   ]
  },
  {
   "cell_type": "code",
   "execution_count": 298,
   "id": "e6979a7a",
   "metadata": {},
   "outputs": [],
   "source": [
    "depth"
   ]
  },
  {
   "cell_type": "code",
   "execution_count": 299,
   "id": "5699debc",
   "metadata": {},
   "outputs": [],
   "source": [
    "depth.rename({\n",
    "    'Longitude': 'lon_rounded_up',\n",
    "    'Latitude': 'lat_rounded_up',\n",
    "    'Mean_Elevation': 'elevation'\n",
    "}, axis=1, inplace=True)"
   ]
  },
  {
   "cell_type": "code",
   "execution_count": 300,
   "id": "f9e46402",
   "metadata": {},
   "outputs": [],
   "source": [
    "depth"
   ]
  },
  {
   "cell_type": "code",
   "execution_count": 301,
   "id": "349ed83b",
   "metadata": {},
   "outputs": [],
   "source": [
    "depth['lon_rounded_up'] = (depth['lon_rounded_up'] + 5).astype('int')"
   ]
  },
  {
   "cell_type": "code",
   "execution_count": 302,
   "id": "dd59c6d8",
   "metadata": {},
   "outputs": [],
   "source": [
    "depth"
   ]
  },
  {
   "cell_type": "code",
   "execution_count": 303,
   "id": "ca8a57b7",
   "metadata": {},
   "outputs": [],
   "source": [
    "depth['lat_rounded_up'] = (depth['lat_rounded_up'] + 5).astype('int')"
   ]
  },
  {
   "cell_type": "code",
   "execution_count": 304,
   "id": "c53b3b2f",
   "metadata": {},
   "outputs": [],
   "source": [
    "depth"
   ]
  },
  {
   "cell_type": "code",
   "execution_count": 305,
   "id": "84918b27",
   "metadata": {},
   "outputs": [],
   "source": [
    "depth['mean_elevation'] = depth['mean_elevation'].astype('Float64')"
   ]
  },
  {
   "cell_type": "code",
   "execution_count": 306,
   "id": "c57b4cd9",
   "metadata": {},
   "outputs": [],
   "source": [
    "depth"
   ]
  },
  {
   "cell_type": "code",
   "execution_count": 307,
   "id": "0df9da55",
   "metadata": {},
   "outputs": [],
   "source": [
    "full_df = pd.merge(full_df, depth, on=['lon_rounded_up', 'lat_rounded_up'], how='left')"
   ]
  },
  {
   "cell_type": "code",
   "execution_count": 308,
   "id": "262ddd45",
   "metadata": {},
   "outputs": [],
   "source": [
    "full_df"
   ]
  },
  {
   "cell_type": "code",
   "execution_count": 309,
   "id": "38812e7a",
   "metadata": {},
   "outputs": [],
   "source": [
    "full_df.head(500)"
   ]
  },
  {
   "cell_type": "code",
   "execution_count": null,
   "id": "75672ac9",
   "metadata": {},
   "outputs": [],
   "source": []
  }
 ],
 "metadata": {
  "kernelspec": {
   "display_name": "Python 3 (ipykernel)",
   "language": "python",
   "name": "python3"
  },
  "language_info": {
   "codemirror_mode": {
    "name": "ipython",
    "version": 3
   },
   "file_extension": ".py",
   "mimetype": "text/x-python",
   "name": "python",
   "nbconvert_exporter": "python",
   "pygments_lexer": "ipython3",
   "version": "3.10.14"
  }
 },
 "nbformat": 4,
 "nbformat_minor": 5
}
