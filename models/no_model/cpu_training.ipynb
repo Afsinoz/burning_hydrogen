{
 "cells": [
  {
   "cell_type": "code",
   "execution_count": 20,
   "id": "b27c5d7f",
   "metadata": {},
   "outputs": [],
   "source": [
    "import numpy as np\n",
    "import torch\n",
    "import torch.nn as nn\n",
    "from torch.utils.data import TensorDataset"
   ]
  },
  {
   "cell_type": "code",
   "execution_count": 35,
   "id": "6bdc4e1e",
   "metadata": {},
   "outputs": [],
   "source": [
    "class NoModel(nn.Module):\n",
    "    def __init__(self):\n",
    "        super(NoModel, self).__init__()\n",
    "    \n",
    "    def forward(self, x, future_steps=30, hidden_state=None):\n",
    "        return torch.stack(future_steps * [x[:,-1,:,:,:]], 1)"
   ]
  },
  {
   "cell_type": "code",
   "execution_count": 36,
   "id": "13ff23dd",
   "metadata": {},
   "outputs": [],
   "source": [
    "dataset = torch.tensor(np.load('../convlstm/splits/dataset_normalized.npy'))"
   ]
  },
  {
   "cell_type": "code",
   "execution_count": 37,
   "id": "5f808a07",
   "metadata": {},
   "outputs": [
    {
     "name": "stderr",
     "output_type": "stream",
     "text": [
      "/var/folders/h9/7qb3ygvs0mzb0cdjbh8z8svr0000gn/T/ipykernel_61245/932451512.py:1: UserWarning: To copy construct from a tensor, it is recommended to use sourceTensor.clone().detach() or sourceTensor.clone().detach().requires_grad_(True), rather than torch.tensor(sourceTensor).\n",
      "  X = torch.tensor(dataset[:,:11,:,:,:])\n",
      "/var/folders/h9/7qb3ygvs0mzb0cdjbh8z8svr0000gn/T/ipykernel_61245/932451512.py:2: UserWarning: To copy construct from a tensor, it is recommended to use sourceTensor.clone().detach() or sourceTensor.clone().detach().requires_grad_(True), rather than torch.tensor(sourceTensor).\n",
      "  y = torch.tensor(dataset[:,11:,:,:,:])\n"
     ]
    }
   ],
   "source": [
    "X = torch.tensor(dataset[:,:11,:,:,:])\n",
    "y = torch.tensor(dataset[:,11:,:,:,:])"
   ]
  },
  {
   "cell_type": "code",
   "execution_count": 59,
   "id": "49c5fdd8",
   "metadata": {},
   "outputs": [],
   "source": [
    "len_train = int(len(X) * 0.6)\n",
    "len_valid = (len(X) - len_train) // 2\n",
    "len_test = (len(X) - len_train) // 2"
   ]
  },
  {
   "cell_type": "code",
   "execution_count": 60,
   "id": "8a1272ff",
   "metadata": {},
   "outputs": [],
   "source": [
    "X_train = X[:len_train]\n",
    "y_train = y[:len_train]\n",
    "X_valid = X[len_train:len_train+len_valid]\n",
    "y_valid = y[len_train:len_train+len_valid]\n",
    "X_test = X[len_train+len_valid:]\n",
    "y_test = y[len_train+len_valid:]"
   ]
  },
  {
   "cell_type": "code",
   "execution_count": 61,
   "id": "efa00d15",
   "metadata": {},
   "outputs": [],
   "source": [
    "model = NoModel()"
   ]
  },
  {
   "cell_type": "code",
   "execution_count": 62,
   "id": "bc7c398a",
   "metadata": {},
   "outputs": [],
   "source": [
    "y_pred = model(X_test)"
   ]
  },
  {
   "cell_type": "code",
   "execution_count": 68,
   "id": "9ffe8093",
   "metadata": {},
   "outputs": [],
   "source": [
    "loss_fn = nn.MSELoss()"
   ]
  },
  {
   "cell_type": "code",
   "execution_count": 69,
   "id": "fe06a600",
   "metadata": {},
   "outputs": [
    {
     "data": {
      "text/plain": [
       "tensor(0.1199)"
      ]
     },
     "execution_count": 69,
     "metadata": {},
     "output_type": "execute_result"
    }
   ],
   "source": [
    "loss_fn(y_pred, y_test)"
   ]
  }
 ],
 "metadata": {
  "kernelspec": {
   "display_name": "deeplearn",
   "language": "python",
   "name": "deeplearn"
  },
  "language_info": {
   "codemirror_mode": {
    "name": "ipython",
    "version": 3
   },
   "file_extension": ".py",
   "mimetype": "text/x-python",
   "name": "python",
   "nbconvert_exporter": "python",
   "pygments_lexer": "ipython3",
   "version": "3.10.0"
  }
 },
 "nbformat": 4,
 "nbformat_minor": 5
}
