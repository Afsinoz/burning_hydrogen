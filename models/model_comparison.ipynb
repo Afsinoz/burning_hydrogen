{
 "cells": [
  {
   "cell_type": "code",
   "execution_count": 1,
   "id": "d3a0e4a8",
   "metadata": {},
   "outputs": [],
   "source": [
    "import sys\n",
    "import torch\n",
    "import pickle\n",
    "import numpy as np\n",
    "from sklearn.metrics import mean_squared_error"
   ]
  },
  {
   "cell_type": "code",
   "execution_count": 2,
   "id": "37fe22c5",
   "metadata": {},
   "outputs": [],
   "source": [
    "dataset = torch.tensor(np.load('./convlstm/splits/dataset_normalized.npy'))"
   ]
  },
  {
   "cell_type": "code",
   "execution_count": 3,
   "id": "23c47cf9",
   "metadata": {},
   "outputs": [
    {
     "name": "stderr",
     "output_type": "stream",
     "text": [
      "/var/folders/h9/7qb3ygvs0mzb0cdjbh8z8svr0000gn/T/ipykernel_49690/932451512.py:1: UserWarning: To copy construct from a tensor, it is recommended to use sourceTensor.clone().detach() or sourceTensor.clone().detach().requires_grad_(True), rather than torch.tensor(sourceTensor).\n",
      "  X = torch.tensor(dataset[:,:11,:,:,:])\n",
      "/var/folders/h9/7qb3ygvs0mzb0cdjbh8z8svr0000gn/T/ipykernel_49690/932451512.py:2: UserWarning: To copy construct from a tensor, it is recommended to use sourceTensor.clone().detach() or sourceTensor.clone().detach().requires_grad_(True), rather than torch.tensor(sourceTensor).\n",
      "  y = torch.tensor(dataset[:,11:,:,:,:])\n"
     ]
    }
   ],
   "source": [
    "X = torch.tensor(dataset[:,:11,:,:,:])\n",
    "y = torch.tensor(dataset[:,11:,:,:,:])"
   ]
  },
  {
   "cell_type": "code",
   "execution_count": 4,
   "id": "313d62f2",
   "metadata": {},
   "outputs": [],
   "source": [
    "len_train = int(len(X) * 0.6)\n",
    "len_valid = (len(X) - len_train) // 2\n",
    "len_test = (len(X) - len_train) // 2"
   ]
  },
  {
   "cell_type": "code",
   "execution_count": 5,
   "id": "8242a717",
   "metadata": {},
   "outputs": [],
   "source": [
    "X_train = X[:len_train]\n",
    "y_train = y[:len_train]\n",
    "X_valid = X[len_train:len_train+len_valid]\n",
    "y_valid = y[len_train:len_train+len_valid]\n",
    "X_test = X[len_train+len_valid:]\n",
    "y_test = y[len_train+len_valid:]"
   ]
  },
  {
   "cell_type": "code",
   "execution_count": 6,
   "id": "b8023ef7",
   "metadata": {},
   "outputs": [],
   "source": [
    "from no_model.no_model_classes import NoModel"
   ]
  },
  {
   "cell_type": "code",
   "execution_count": 7,
   "id": "cc4fce35",
   "metadata": {},
   "outputs": [],
   "source": [
    "no_model = NoModel()"
   ]
  },
  {
   "cell_type": "code",
   "execution_count": 8,
   "id": "d1a59ece",
   "metadata": {},
   "outputs": [],
   "source": [
    "y_pred_no = np.array(no_model(X_test))"
   ]
  },
  {
   "cell_type": "code",
   "execution_count": 9,
   "id": "6ebfc500",
   "metadata": {},
   "outputs": [],
   "source": [
    "no_model_mse = mean_squared_error(y_pred_no.flatten(), y_test.flatten())"
   ]
  },
  {
   "cell_type": "code",
   "execution_count": 10,
   "id": "df53f79f",
   "metadata": {},
   "outputs": [
    {
     "data": {
      "text/plain": [
       "0.11989186"
      ]
     },
     "execution_count": 10,
     "metadata": {},
     "output_type": "execute_result"
    }
   ],
   "source": [
    "no_model_mse"
   ]
  },
  {
   "cell_type": "code",
   "execution_count": 11,
   "id": "ba5c5354",
   "metadata": {},
   "outputs": [],
   "source": [
    "no_model_mse_by_day = [mean_squared_error(y_pred_no[:,i].flatten(), y_test[:,i].flatten()) for i in range(30)]"
   ]
  },
  {
   "cell_type": "code",
   "execution_count": 12,
   "id": "912d0cb7",
   "metadata": {},
   "outputs": [
    {
     "data": {
      "text/plain": [
       "[0.0030217846,\n",
       " 0.010430028,\n",
       " 0.019414283,\n",
       " 0.028481562,\n",
       " 0.03732993,\n",
       " 0.04606231,\n",
       " 0.05463149,\n",
       " 0.06279017,\n",
       " 0.07049103,\n",
       " 0.078104645,\n",
       " 0.08615018,\n",
       " 0.09492248,\n",
       " 0.10434186,\n",
       " 0.1141487,\n",
       " 0.12405562,\n",
       " 0.13391156,\n",
       " 0.14355335,\n",
       " 0.15252729,\n",
       " 0.1602898,\n",
       " 0.16662289,\n",
       " 0.17183319,\n",
       " 0.17645629,\n",
       " 0.1808068,\n",
       " 0.1849418,\n",
       " 0.18890588,\n",
       " 0.19281553,\n",
       " 0.19678153,\n",
       " 0.20071317,\n",
       " 0.20439543,\n",
       " 0.20782472]"
      ]
     },
     "execution_count": 12,
     "metadata": {},
     "output_type": "execute_result"
    }
   ],
   "source": [
    "no_model_mse_by_day"
   ]
  },
  {
   "cell_type": "code",
   "execution_count": 13,
   "id": "8e663b5c",
   "metadata": {},
   "outputs": [],
   "source": [
    "no_model_o2_mse = mean_squared_error(y_pred_no[:,:,1].flatten(), y_test[:,:,1].flatten())"
   ]
  },
  {
   "cell_type": "code",
   "execution_count": 14,
   "id": "4562014a",
   "metadata": {},
   "outputs": [
    {
     "data": {
      "text/plain": [
       "0.051767554"
      ]
     },
     "execution_count": 14,
     "metadata": {},
     "output_type": "execute_result"
    }
   ],
   "source": [
    "no_model_o2_mse"
   ]
  },
  {
   "cell_type": "code",
   "execution_count": 15,
   "id": "8e11779e",
   "metadata": {},
   "outputs": [],
   "source": [
    "no_model_o2_mse_by_day = [mean_squared_error(y_pred_no[:,i,1].flatten(), y_test[:,i,1].flatten()) for i in range(30)]"
   ]
  },
  {
   "cell_type": "code",
   "execution_count": 16,
   "id": "a719be4c",
   "metadata": {},
   "outputs": [
    {
     "data": {
      "text/plain": [
       "[0.0013414244,\n",
       " 0.0043144687,\n",
       " 0.007501128,\n",
       " 0.010610383,\n",
       " 0.0137038175,\n",
       " 0.01676148,\n",
       " 0.019802209,\n",
       " 0.02292054,\n",
       " 0.026021024,\n",
       " 0.028898515,\n",
       " 0.031687792,\n",
       " 0.034705937,\n",
       " 0.037989374,\n",
       " 0.041317064,\n",
       " 0.04482076,\n",
       " 0.048828892,\n",
       " 0.053171318,\n",
       " 0.05760527,\n",
       " 0.062060762,\n",
       " 0.066473275,\n",
       " 0.070759505,\n",
       " 0.075082034,\n",
       " 0.07969438,\n",
       " 0.08449871,\n",
       " 0.08926578,\n",
       " 0.09403586,\n",
       " 0.099060774,\n",
       " 0.104432695,\n",
       " 0.10999872,\n",
       " 0.11566278]"
      ]
     },
     "execution_count": 16,
     "metadata": {},
     "output_type": "execute_result"
    }
   ],
   "source": [
    "no_model_o2_mse_by_day"
   ]
  },
  {
   "cell_type": "code",
   "execution_count": 17,
   "id": "eceef183",
   "metadata": {},
   "outputs": [],
   "source": [
    "from conv3d.conv3d_classes import Conv3dModel"
   ]
  },
  {
   "cell_type": "code",
   "execution_count": 44,
   "id": "5ebdc176",
   "metadata": {},
   "outputs": [],
   "source": [
    "conv3d_model = Conv3dModel()"
   ]
  },
  {
   "cell_type": "code",
   "execution_count": 45,
   "id": "8f510a56",
   "metadata": {},
   "outputs": [
    {
     "data": {
      "text/plain": [
       "<All keys matched successfully>"
      ]
     },
     "execution_count": 45,
     "metadata": {},
     "output_type": "execute_result"
    }
   ],
   "source": [
    "conv3d_model.load_state_dict(torch.load('./conv3d/best_model_params.pt', map_location=torch.device('cpu')))"
   ]
  },
  {
   "cell_type": "code",
   "execution_count": 46,
   "id": "5483a3b5",
   "metadata": {},
   "outputs": [],
   "source": [
    "y_pred_conv3d = conv3d_model(torch.permute(X_test, (0,2,1,3,4))).detach().numpy()"
   ]
  },
  {
   "cell_type": "code",
   "execution_count": 47,
   "id": "8018a40f",
   "metadata": {},
   "outputs": [],
   "source": [
    "conv3d_model_mse = mean_squared_error(y_pred_conv3d.flatten(), y_test.flatten())"
   ]
  },
  {
   "cell_type": "code",
   "execution_count": 48,
   "id": "165c8eb8",
   "metadata": {},
   "outputs": [
    {
     "data": {
      "text/plain": [
       "1.4599025"
      ]
     },
     "execution_count": 48,
     "metadata": {},
     "output_type": "execute_result"
    }
   ],
   "source": [
    "conv3d_model_mse"
   ]
  },
  {
   "cell_type": "code",
   "execution_count": 49,
   "id": "73500012",
   "metadata": {},
   "outputs": [],
   "source": [
    "conv3d_model_mse_by_day = [mean_squared_error(y_pred_conv3d[:,:,i].flatten(), y_test[:,i].flatten()) for i in range(30)]"
   ]
  },
  {
   "cell_type": "code",
   "execution_count": 50,
   "id": "ed1c8997",
   "metadata": {},
   "outputs": [
    {
     "data": {
      "text/plain": [
       "[0.122099124,\n",
       " 0.1344868,\n",
       " 0.13919742,\n",
       " 0.14407104,\n",
       " 0.14861077,\n",
       " 0.15286961,\n",
       " 0.15683141,\n",
       " 0.16086316,\n",
       " 0.16524018,\n",
       " 0.16824599,\n",
       " 0.16608962,\n",
       " 0.2032461,\n",
       " 0.2219094,\n",
       " 0.23246476,\n",
       " 0.23836806,\n",
       " 0.24309233,\n",
       " 0.24751674,\n",
       " 0.25117505,\n",
       " 0.25350997,\n",
       " 0.250515,\n",
       " 0.24005811,\n",
       " 0.22822995,\n",
       " 0.2689117,\n",
       " 0.28239977,\n",
       " 0.28958267,\n",
       " 0.2949577,\n",
       " 0.29837638,\n",
       " 0.29940662,\n",
       " 0.2950695,\n",
       " 0.28556967]"
      ]
     },
     "execution_count": 50,
     "metadata": {},
     "output_type": "execute_result"
    }
   ],
   "source": [
    "conv3d_model_mse_by_day"
   ]
  },
  {
   "cell_type": "code",
   "execution_count": 51,
   "id": "9e4d9769",
   "metadata": {},
   "outputs": [],
   "source": [
    "conv3d_model_o2_mse = mean_squared_error(y_pred_conv3d[:,1].flatten(), y_test[:,:,1].flatten())"
   ]
  },
  {
   "cell_type": "code",
   "execution_count": 52,
   "id": "719e54d1",
   "metadata": {},
   "outputs": [
    {
     "data": {
      "text/plain": [
       "0.17431387"
      ]
     },
     "execution_count": 52,
     "metadata": {},
     "output_type": "execute_result"
    }
   ],
   "source": [
    "conv3d_model_o2_mse"
   ]
  },
  {
   "cell_type": "code",
   "execution_count": 53,
   "id": "190672db",
   "metadata": {},
   "outputs": [],
   "source": [
    "conv3d_model_o2_mse_by_day = [mean_squared_error(y_pred_conv3d[:,1,i].flatten(), y_test[:,i,1].flatten()) for i in range(30)]"
   ]
  },
  {
   "cell_type": "code",
   "execution_count": 54,
   "id": "42d1c7fa",
   "metadata": {},
   "outputs": [
    {
     "data": {
      "text/plain": [
       "[0.112149246,\n",
       " 0.1480675,\n",
       " 0.15336049,\n",
       " 0.15696561,\n",
       " 0.16142173,\n",
       " 0.16533455,\n",
       " 0.16922688,\n",
       " 0.17329021,\n",
       " 0.1792069,\n",
       " 0.1804626,\n",
       " 0.15086766,\n",
       " 0.12582715,\n",
       " 0.1583538,\n",
       " 0.17298397,\n",
       " 0.17739764,\n",
       " 0.18137057,\n",
       " 0.18600826,\n",
       " 0.1893043,\n",
       " 0.18905354,\n",
       " 0.18032268,\n",
       " 0.15346442,\n",
       " 0.12322915,\n",
       " 0.1854842,\n",
       " 0.20594771,\n",
       " 0.21385492,\n",
       " 0.21962851,\n",
       " 0.22135556,\n",
       " 0.21763135,\n",
       " 0.20236535,\n",
       " 0.17547928]"
      ]
     },
     "execution_count": 54,
     "metadata": {},
     "output_type": "execute_result"
    }
   ],
   "source": [
    "conv3d_model_o2_mse_by_day"
   ]
  },
  {
   "cell_type": "code",
   "execution_count": 55,
   "id": "9775f05d",
   "metadata": {},
   "outputs": [],
   "source": [
    "from convlstm.convlstm_classes import EncoderDecoderConvLSTM"
   ]
  },
  {
   "cell_type": "code",
   "execution_count": 30,
   "id": "47048861",
   "metadata": {},
   "outputs": [],
   "source": [
    "convlstm_model = EncoderDecoderConvLSTM(nf=24, in_chan=8, out_chan=8)"
   ]
  },
  {
   "cell_type": "code",
   "execution_count": 56,
   "id": "aadf8510",
   "metadata": {},
   "outputs": [
    {
     "data": {
      "text/plain": [
       "<All keys matched successfully>"
      ]
     },
     "execution_count": 56,
     "metadata": {},
     "output_type": "execute_result"
    }
   ],
   "source": [
    "convlstm_model.load_state_dict(torch.load('./convlstm/best_model_params.pt', map_location=torch.device('cpu')))"
   ]
  },
  {
   "cell_type": "code",
   "execution_count": 57,
   "id": "6b952c72",
   "metadata": {},
   "outputs": [],
   "source": [
    "y_pred_convlstm = convlstm_model(X_test).detach().numpy()"
   ]
  },
  {
   "cell_type": "code",
   "execution_count": 58,
   "id": "9d4215cb",
   "metadata": {},
   "outputs": [],
   "source": [
    "convlstm_model_mse = mean_squared_error(y_pred_convlstm.flatten(), y_test.flatten())"
   ]
  },
  {
   "cell_type": "code",
   "execution_count": 59,
   "id": "2c414b5f",
   "metadata": {},
   "outputs": [
    {
     "data": {
      "text/plain": [
       "0.21224211"
      ]
     },
     "execution_count": 59,
     "metadata": {},
     "output_type": "execute_result"
    }
   ],
   "source": [
    "convlstm_model_mse"
   ]
  },
  {
   "cell_type": "code",
   "execution_count": 60,
   "id": "0afbbd2d",
   "metadata": {},
   "outputs": [],
   "source": [
    "convlstm_model_mse_by_day = [mean_squared_error(y_pred_convlstm[:,i].flatten(), y_test[:,i].flatten()) for i in range(30)]"
   ]
  },
  {
   "cell_type": "code",
   "execution_count": 61,
   "id": "61059b70",
   "metadata": {},
   "outputs": [
    {
     "data": {
      "text/plain": [
       "[0.15097688,\n",
       " 0.1435816,\n",
       " 0.14667363,\n",
       " 0.15135293,\n",
       " 0.15706322,\n",
       " 0.16316676,\n",
       " 0.16925149,\n",
       " 0.17515215,\n",
       " 0.18083863,\n",
       " 0.18633898,\n",
       " 0.1918215,\n",
       " 0.19735886,\n",
       " 0.20280881,\n",
       " 0.20803587,\n",
       " 0.21313253,\n",
       " 0.21820441,\n",
       " 0.22318989,\n",
       " 0.22802699,\n",
       " 0.23273975,\n",
       " 0.23732448,\n",
       " 0.24178517,\n",
       " 0.24611735,\n",
       " 0.2502748,\n",
       " 0.25423646,\n",
       " 0.25798535,\n",
       " 0.26148993,\n",
       " 0.26480478,\n",
       " 0.26801693,\n",
       " 0.27118054,\n",
       " 0.27433407]"
      ]
     },
     "execution_count": 61,
     "metadata": {},
     "output_type": "execute_result"
    }
   ],
   "source": [
    "convlstm_model_mse_by_day"
   ]
  },
  {
   "cell_type": "code",
   "execution_count": 62,
   "id": "728d0ad5",
   "metadata": {},
   "outputs": [],
   "source": [
    "convlstm_model_o2_mse = mean_squared_error(y_pred_convlstm[:,:,1].flatten(), y_test[:,:,1].flatten())"
   ]
  },
  {
   "cell_type": "code",
   "execution_count": 63,
   "id": "a1948108",
   "metadata": {},
   "outputs": [
    {
     "data": {
      "text/plain": [
       "0.12831438"
      ]
     },
     "execution_count": 63,
     "metadata": {},
     "output_type": "execute_result"
    }
   ],
   "source": [
    "convlstm_model_o2_mse"
   ]
  },
  {
   "cell_type": "code",
   "execution_count": 64,
   "id": "7d27bc8b",
   "metadata": {},
   "outputs": [],
   "source": [
    "convlstm_model_o2_mse_by_day = [mean_squared_error(y_pred_convlstm[:,i,1].flatten(), y_test[:,i,1].flatten()) for i in range(30)]"
   ]
  },
  {
   "cell_type": "code",
   "execution_count": 65,
   "id": "9462669b",
   "metadata": {},
   "outputs": [
    {
     "data": {
      "text/plain": [
       "[0.09534954,\n",
       " 0.09100282,\n",
       " 0.089907534,\n",
       " 0.087388456,\n",
       " 0.08784053,\n",
       " 0.09060307,\n",
       " 0.09422279,\n",
       " 0.098070495,\n",
       " 0.10193406,\n",
       " 0.1057328,\n",
       " 0.10960738,\n",
       " 0.1135634,\n",
       " 0.11738567,\n",
       " 0.12084592,\n",
       " 0.12404969,\n",
       " 0.12736873,\n",
       " 0.13092484,\n",
       " 0.1347468,\n",
       " 0.13878858,\n",
       " 0.14296414,\n",
       " 0.14726827,\n",
       " 0.15171614,\n",
       " 0.1561692,\n",
       " 0.16037816,\n",
       " 0.16415878,\n",
       " 0.1675116,\n",
       " 0.17059469,\n",
       " 0.17352752,\n",
       " 0.17642443,\n",
       " 0.17938453]"
      ]
     },
     "execution_count": 65,
     "metadata": {},
     "output_type": "execute_result"
    }
   ],
   "source": [
    "convlstm_model_o2_mse_by_day"
   ]
  },
  {
   "cell_type": "code",
   "execution_count": 66,
   "id": "55aec75e",
   "metadata": {},
   "outputs": [],
   "source": [
    "import xgb_on_lin_reg.time_series_model as time_series_model"
   ]
  },
  {
   "cell_type": "code",
   "execution_count": 67,
   "id": "2bd8ed62",
   "metadata": {},
   "outputs": [
    {
     "name": "stderr",
     "output_type": "stream",
     "text": [
      "/Users/alexanderrasmussen/miniconda3/envs/deeplearn/lib/python3.10/site-packages/sklearn/base.py:318: UserWarning: Trying to unpickle estimator Lasso from version 1.3.2 when using version 1.2.2. This might lead to breaking code or invalid results. Use at your own risk. For more info please refer to:\n",
      "https://scikit-learn.org/stable/model_persistence.html#security-maintainability-limitations\n",
      "  warnings.warn(\n",
      "/Users/alexanderrasmussen/miniconda3/envs/deeplearn/lib/python3.10/site-packages/xgboost/core.py:158: UserWarning: [10:01:49] WARNING: /Users/runner/work/xgboost/xgboost/src/gbm/gbtree.cc:388: Changing updater from `grow_gpu_hist` to `grow_quantile_histmaker`.\n",
      "  warnings.warn(smsg, UserWarning)\n",
      "/Users/alexanderrasmussen/miniconda3/envs/deeplearn/lib/python3.10/site-packages/xgboost/core.py:158: UserWarning: [10:01:49] WARNING: /Users/runner/work/xgboost/xgboost/src/context.cc:196: XGBoost is not compiled with CUDA support.\n",
      "  warnings.warn(smsg, UserWarning)\n"
     ]
    }
   ],
   "source": [
    "with open('./xgb_on_lin_reg/best_model.pkl', 'rb') as f:\n",
    "    xgb_on_lin_reg_model = pickle.load(f)"
   ]
  }
 ],
 "metadata": {
  "kernelspec": {
   "display_name": "deeplearn",
   "language": "python",
   "name": "deeplearn"
  },
  "language_info": {
   "codemirror_mode": {
    "name": "ipython",
    "version": 3
   },
   "file_extension": ".py",
   "mimetype": "text/x-python",
   "name": "python",
   "nbconvert_exporter": "python",
   "pygments_lexer": "ipython3",
   "version": "3.10.0"
  }
 },
 "nbformat": 4,
 "nbformat_minor": 5
}
