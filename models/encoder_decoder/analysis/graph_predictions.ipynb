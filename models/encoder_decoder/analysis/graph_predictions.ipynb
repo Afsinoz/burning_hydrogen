{
 "cells": [
  {
   "cell_type": "code",
   "execution_count": 1,
   "id": "d2665efc",
   "metadata": {},
   "outputs": [],
   "source": [
    "import numpy as np\n",
    "import torch\n",
    "import torch.nn as nn\n",
    "import matplotlib.pyplot as plt\n",
    "import matplotlib\n",
    "import sys"
   ]
  },
  {
   "cell_type": "code",
   "execution_count": 2,
   "id": "9063f1ed",
   "metadata": {},
   "outputs": [],
   "source": [
    "sys.path.insert(0, '..')"
   ]
  },
  {
   "cell_type": "code",
   "execution_count": 3,
   "id": "471ff6e0",
   "metadata": {},
   "outputs": [],
   "source": [
    "from encoder_decoder_classes import EncoderDecoderConvLSTM"
   ]
  },
  {
   "cell_type": "markdown",
   "id": "f9537de6",
   "metadata": {},
   "source": [
    "Below, dataset is the original dataset, with non-normalized features and containing nan values. dataset_norm has the features normalized and nan values replaced by 0."
   ]
  },
  {
   "cell_type": "code",
   "execution_count": 4,
   "id": "1c124b5a",
   "metadata": {},
   "outputs": [],
   "source": [
    "dataset = torch.tensor(np.load('../../../numpy_dataset/dataset.npy'))"
   ]
  },
  {
   "cell_type": "code",
   "execution_count": 5,
   "id": "991aa514",
   "metadata": {},
   "outputs": [],
   "source": [
    "dataset_norm = torch.tensor(np.load('../../../numpy_dataset/dataset_normalized.npy'))"
   ]
  },
  {
   "cell_type": "markdown",
   "id": "bb2e15ba",
   "metadata": {},
   "source": [
    "The input X consists of the first 11 days of data (the current day preceded by 10 days of lag). The target y consists of the rest of the data (30 days of lead)."
   ]
  },
  {
   "cell_type": "code",
   "execution_count": 6,
   "id": "9f86453c",
   "metadata": {},
   "outputs": [],
   "source": [
    "X = dataset_norm[:,:11,:,:,:]"
   ]
  },
  {
   "cell_type": "code",
   "execution_count": 7,
   "id": "8dcb0410",
   "metadata": {},
   "outputs": [],
   "source": [
    "y = dataset_norm[:,11:,:,:,:]"
   ]
  },
  {
   "cell_type": "markdown",
   "id": "e54e0220",
   "metadata": {},
   "source": [
    "y_un is pulled from dataset and thus contains nan values."
   ]
  },
  {
   "cell_type": "code",
   "execution_count": 8,
   "id": "c24a4028",
   "metadata": {},
   "outputs": [],
   "source": [
    "y_un = dataset[:,11:,:,:,:]"
   ]
  },
  {
   "cell_type": "code",
   "execution_count": 9,
   "id": "e8b7ac30",
   "metadata": {},
   "outputs": [],
   "source": [
    "future_steps = 30"
   ]
  },
  {
   "cell_type": "code",
   "execution_count": 10,
   "id": "ce1771a3",
   "metadata": {},
   "outputs": [],
   "source": [
    "model = EncoderDecoderConvLSTM()"
   ]
  },
  {
   "cell_type": "code",
   "execution_count": 11,
   "id": "3c8bbd16",
   "metadata": {},
   "outputs": [],
   "source": [
    "model.load_state_dict(torch.load('../best_model_params.pt', map_location=torch.device('cpu')))"
   ]
  },
  {
   "cell_type": "code",
   "execution_count": 12,
   "id": "60a1200b",
   "metadata": {},
   "outputs": [],
   "source": [
    "model.eval()"
   ]
  },
  {
   "cell_type": "code",
   "execution_count": 13,
   "id": "21102c40",
   "metadata": {},
   "outputs": [],
   "source": [
    "test_len = int(len(X) * 0.2)"
   ]
  },
  {
   "cell_type": "code",
   "execution_count": 14,
   "id": "6fbe905f",
   "metadata": {},
   "outputs": [],
   "source": [
    "the_range = list(range(len(X) - test_len, len(X)))"
   ]
  },
  {
   "cell_type": "markdown",
   "id": "e1e15710",
   "metadata": {},
   "source": [
    "We'll take 20 random samples from the test set and graph the predictions of the model on those 20 random samples."
   ]
  },
  {
   "cell_type": "code",
   "execution_count": 15,
   "id": "5e573f4a",
   "metadata": {},
   "outputs": [],
   "source": [
    "np.random.seed(42)"
   ]
  },
  {
   "cell_type": "code",
   "execution_count": 16,
   "id": "f030524f",
   "metadata": {},
   "outputs": [],
   "source": [
    "sample_indices = np.random.choice(the_range, size=20, replace=False)"
   ]
  },
  {
   "cell_type": "code",
   "execution_count": 17,
   "id": "233c6d26",
   "metadata": {},
   "outputs": [],
   "source": [
    "sample_indices"
   ]
  },
  {
   "cell_type": "code",
   "execution_count": 18,
   "id": "881fa0ce",
   "metadata": {},
   "outputs": [],
   "source": [
    "sample = X[sample_indices,:,:,:,:]"
   ]
  },
  {
   "cell_type": "code",
   "execution_count": 19,
   "id": "627917f9",
   "metadata": {},
   "outputs": [],
   "source": [
    "y_pred = model(sample).squeeze(2).detach().numpy()"
   ]
  },
  {
   "cell_type": "code",
   "execution_count": 20,
   "id": "dfdf06dc",
   "metadata": {},
   "outputs": [],
   "source": [
    "y_pred.shape"
   ]
  },
  {
   "cell_type": "code",
   "execution_count": 21,
   "id": "a3927547",
   "metadata": {},
   "outputs": [],
   "source": [
    "y_true = y[sample_indices,:,1,:,:].numpy()"
   ]
  },
  {
   "cell_type": "code",
   "execution_count": 22,
   "id": "349d0266",
   "metadata": {},
   "outputs": [],
   "source": [
    "y_true.shape"
   ]
  },
  {
   "cell_type": "markdown",
   "id": "fdc46a64",
   "metadata": {},
   "source": [
    "Below, we mask y_pred and y_true using the nan values in y_un in order to display the predictions sensibly in a pdf."
   ]
  },
  {
   "cell_type": "code",
   "execution_count": 23,
   "id": "d4d058ca",
   "metadata": {},
   "outputs": [],
   "source": [
    "for_mask = y_un[sample_indices,:,1,:,:]"
   ]
  },
  {
   "cell_type": "code",
   "execution_count": 24,
   "id": "c606ec7f",
   "metadata": {},
   "outputs": [],
   "source": [
    "y_pred = np.ma.masked_where(for_mask.isnan(), y_pred)"
   ]
  },
  {
   "cell_type": "code",
   "execution_count": 25,
   "id": "36c711e5",
   "metadata": {},
   "outputs": [],
   "source": [
    "y_true = np.ma.masked_where(for_mask.isnan(), y_true)"
   ]
  },
  {
   "cell_type": "code",
   "execution_count": 26,
   "id": "24d749aa",
   "metadata": {},
   "outputs": [],
   "source": [
    "cmap = plt.get_cmap('Blues')"
   ]
  },
  {
   "cell_type": "code",
   "execution_count": 27,
   "id": "e865f5ce",
   "metadata": {},
   "outputs": [],
   "source": [
    "cmap.set_bad(color='green')"
   ]
  },
  {
   "cell_type": "markdown",
   "id": "a032a3f1",
   "metadata": {},
   "source": [
    "Here we graph the predictions of the model on each of the 20 random test samples. "
   ]
  },
  {
   "cell_type": "code",
   "execution_count": 28,
   "id": "abc563c2",
   "metadata": {},
   "outputs": [],
   "source": [
    "for i, ind in enumerate(sample_indices):\n",
    "    y_pred_ = y_pred[i]\n",
    "    y_true_ = y_true[i]\n",
    "\n",
    "    fig, axes = plt.subplots(30,2)\n",
    "\n",
    "    fig.set_figheight(45)\n",
    "    \n",
    "    fig.suptitle(f'Predicted versus actual oxygen for datapoint {ind}', fontsize=10)\n",
    "    \n",
    "    for j in range(30):\n",
    "        axs = axes[j]\n",
    "        axs[0].get_xaxis().set_ticks([])\n",
    "        axs[0].get_yaxis().set_ticks([])\n",
    "        axs[1].get_xaxis().set_ticks([])\n",
    "        axs[1].get_yaxis().set_ticks([])\n",
    "        t = axs[0].imshow(y_true_[j], cmap=cmap, vmin=-2, vmax=2, origin='lower')\n",
    "        p = axs[1].imshow(y_pred_[j], cmap=cmap, vmin=-2, vmax=2, origin='lower')\n",
    "        fig.colorbar(t, ax=axs[0], location='right')\n",
    "        fig.colorbar(p, ax=axs[1], location='right')\n",
    "    \n",
    "    plt.savefig(f'graph_point_{ind}.pdf', format='pdf')\n",
    "    plt.show()"
   ]
  }
 ],
 "metadata": {
  "kernelspec": {
   "display_name": "deeplearn",
   "language": "python",
   "name": "deeplearn"
  },
  "language_info": {
   "codemirror_mode": {
    "name": "ipython",
    "version": 3
   },
   "file_extension": ".py",
   "mimetype": "text/x-python",
   "name": "python",
   "nbconvert_exporter": "python",
   "pygments_lexer": "ipython3",
   "version": "3.10.0"
  }
 },
 "nbformat": 4,
 "nbformat_minor": 5
}
