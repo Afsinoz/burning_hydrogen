{
 "cells": [
  {
   "cell_type": "code",
   "execution_count": 34,
   "id": "9e662bee",
   "metadata": {},
   "outputs": [],
   "source": [
    "import torch\n",
    "import numpy as np\n",
    "import torch.nn as nn\n",
    "from torch.utils.data import TensorDataset, DataLoader\n",
    "from torch.utils.tensorboard import SummaryWriter\n",
    "from torch.nn import functional as F\n",
    "import torch.optim as optim\n",
    "import tensorboard"
   ]
  },
  {
   "cell_type": "code",
   "execution_count": 35,
   "id": "21aa0a18",
   "metadata": {},
   "outputs": [],
   "source": [
    "class ConvLSTMCell(nn.Module):\n",
    "\n",
    "    def __init__(self, input_dim, hidden_dim, kernel_size, bias):\n",
    "        super(ConvLSTMCell, self).__init__()\n",
    "\n",
    "        self.input_dim = input_dim\n",
    "        self.hidden_dim = hidden_dim\n",
    "\n",
    "        self.kernel_size = kernel_size\n",
    "        self.padding = kernel_size[0] // 2, kernel_size[1] // 2\n",
    "        self.bias = bias\n",
    "\n",
    "        self.conv = nn.Conv2d(in_channels=self.input_dim + self.hidden_dim,\n",
    "                              out_channels=4 * self.hidden_dim,\n",
    "                              kernel_size=self.kernel_size,\n",
    "                              padding=self.padding,\n",
    "                              bias=self.bias)\n",
    "\n",
    "    def forward(self, input_tensor, cur_state):\n",
    "        h_cur, c_cur = cur_state\n",
    "\n",
    "        combined = torch.cat([input_tensor, h_cur], dim=1)\n",
    "\n",
    "        combined_conv = self.conv(combined)\n",
    "        cc_i, cc_f, cc_o, cc_g = torch.split(\n",
    "            combined_conv, self.hidden_dim, dim=1)\n",
    "        i = torch.sigmoid(cc_i)\n",
    "        f = torch.sigmoid(cc_f)\n",
    "        o = torch.sigmoid(cc_o)\n",
    "        g = torch.tanh(cc_g)\n",
    "\n",
    "        c_next = f * c_cur + i * g\n",
    "        h_next = o * torch.tanh(c_next)\n",
    "\n",
    "        return h_next, c_next\n",
    "\n",
    "    def init_hidden(self, batch_size, image_size):\n",
    "        height, width = image_size\n",
    "        return (torch.zeros(batch_size, self.hidden_dim, height, width,\n",
    "                            device=self.conv.weight.device),\n",
    "                torch.zeros(batch_size, self.hidden_dim, height, width,\n",
    "                            device=self.conv.weight.device))\n",
    "\n",
    "\n",
    "class EncoderDecoderConvLSTM(nn.Module):\n",
    "\n",
    "    def __init__(self, nf, in_chan, out_chan):\n",
    "        super(EncoderDecoderConvLSTM, self).__init__()\n",
    "\n",
    "        self.encoder_1_convlstm = ConvLSTMCell(input_dim=in_chan,\n",
    "                                               hidden_dim=nf,\n",
    "                                               kernel_size=(3, 3),\n",
    "                                               bias=True)\n",
    "\n",
    "        self.encoder_2_convlstm = ConvLSTMCell(input_dim=nf,\n",
    "                                               hidden_dim=nf,\n",
    "                                               kernel_size=(3, 3),\n",
    "                                               bias=True)\n",
    "\n",
    "        self.decoder_1_convlstm = ConvLSTMCell(input_dim=nf,\n",
    "                                               hidden_dim=nf,\n",
    "                                               kernel_size=(3, 3),\n",
    "                                               bias=True)\n",
    "\n",
    "        self.decoder_2_convlstm = ConvLSTMCell(input_dim=nf,\n",
    "                                               hidden_dim=nf,\n",
    "                                               kernel_size=(3, 3),\n",
    "                                               bias=True)\n",
    "\n",
    "        self.decoder_CNN = nn.Conv3d(in_channels=nf,\n",
    "                                     out_channels=out_chan,\n",
    "                                     kernel_size=(1, 3, 3),\n",
    "                                     padding=(0, 1, 1))\n",
    "        \n",
    "    def autoencoder(self, x, past_steps, future_steps, h_t, c_t, h_t2, c_t2, h_t3, c_t3, h_t4, c_t4):\n",
    "        outputs = []\n",
    "\n",
    "        for t in range(past_steps):\n",
    "            h_t, c_t = self.encoder_1_convlstm(input_tensor=x[:, t, :, :],\n",
    "                                              cur_state=[h_t,c_t])\n",
    "            h_t2, c_t2 = self.encoder_2_convlstm(input_tensor=h_t,\n",
    "                                                cur_state=[h_t2, c_t2])\n",
    "\n",
    "        encoder_vector = h_t2\n",
    "\n",
    "        for t in range(future_steps):\n",
    "            h_t3, c_t3 = self.decoder_1_convlstm(input_tensor=encoder_vector,\n",
    "                                                cur_state=[h_t3, c_t3])\n",
    "            h_t4, c_t4 = self.decoder_2_convlstm(input_tensor=h_t3,\n",
    "                                                cur_state=[h_t4, c_t4])\n",
    "            encoder_vector = h_t4\n",
    "            outputs.append(h_t4)\n",
    "\n",
    "        outputs = torch.stack(outputs, 1)\n",
    "        outputs = outputs.permute(0, 2, 1, 3, 4)\n",
    "        outputs = self.decoder_CNN(outputs)\n",
    "        outputs = torch.nn.Sigmoid()(outputs)\n",
    "        outputs = outputs.permute(0, 2, 1, 3, 4)\n",
    "        \n",
    "        return outputs\n",
    "    \n",
    "    def forward(self, x, future_steps=30, hidden_state=None):\n",
    "        b, past_steps, _, h, w = x.size()\n",
    "        \n",
    "        h_t, c_t = self.encoder_1_convlstm.init_hidden(batch_size=b, image_size=(h, w))\n",
    "        h_t2, c_t2 = self.encoder_2_convlstm.init_hidden(batch_size=b, image_size=(h,w))\n",
    "        h_t3, c_t3 = self.decoder_1_convlstm.init_hidden(batch_size=b, image_size=(h, w))\n",
    "        h_t4, c_t4 = self.decoder_2_convlstm.init_hidden(batch_size=b, image_size=(h, w))\n",
    "        \n",
    "        outputs = self.autoencoder(x, past_steps, future_steps, h_t, c_t, h_t2, c_t2,\n",
    "                                  h_t3, c_t3, h_t4, c_t4)\n",
    "\n",
    "        return outputs"
   ]
  },
  {
   "cell_type": "code",
   "execution_count": 36,
   "id": "7c28ab0a",
   "metadata": {},
   "outputs": [],
   "source": [
    "dataset = np.load('./splits/dataset.npy')"
   ]
  },
  {
   "cell_type": "code",
   "execution_count": 37,
   "id": "7690c2fd",
   "metadata": {},
   "outputs": [],
   "source": [
    "dataset_normalized = dataset.copy()"
   ]
  },
  {
   "cell_type": "code",
   "execution_count": 38,
   "id": "b21286b9",
   "metadata": {},
   "outputs": [],
   "source": [
    "for i in range(8):\n",
    "    dataset_normalized[:,:,i,:,:] = \\\n",
    "    (dataset_normalized[:,:,i,:,:] - np.nanmean(dataset_normalized[:,:,i,:,:])) / \\\n",
    "    np.nanstd(dataset_normalized[:,:,i,:,:])"
   ]
  },
  {
   "cell_type": "code",
   "execution_count": 39,
   "id": "87934cee",
   "metadata": {},
   "outputs": [],
   "source": [
    "dataset_normalized = np.nan_to_num(dataset_normalized, nan=0.)"
   ]
  },
  {
   "cell_type": "code",
   "execution_count": 40,
   "id": "3d6c8122",
   "metadata": {},
   "outputs": [],
   "source": [
    "dataset_normalized = dataset_normalized.astype('float32') "
   ]
  },
  {
   "cell_type": "code",
   "execution_count": 41,
   "id": "eda32b3e",
   "metadata": {},
   "outputs": [],
   "source": [
    "np.save('./splits/dataset_normalized.npy', dataset_normalized)"
   ]
  },
  {
   "cell_type": "code",
   "execution_count": 42,
   "id": "60c7e3d8",
   "metadata": {},
   "outputs": [],
   "source": [
    "X = torch.tensor(dataset_normalized[:,:11,:,:,:])\n",
    "y = torch.tensor(dataset_normalized[:,11:,:,:,:])"
   ]
  },
  {
   "cell_type": "code",
   "execution_count": 43,
   "id": "8005c085",
   "metadata": {},
   "outputs": [],
   "source": [
    "ds = TensorDataset(X,y)"
   ]
  },
  {
   "cell_type": "code",
   "execution_count": 44,
   "id": "acff9c95",
   "metadata": {},
   "outputs": [],
   "source": [
    "dl = DataLoader(ds, batch_size=64, shuffle=False)"
   ]
  },
  {
   "cell_type": "code",
   "execution_count": 45,
   "id": "71cd541b",
   "metadata": {},
   "outputs": [],
   "source": [
    "len_train = int(len(ds) * 0.6)\n",
    "len_valid = (len(ds) - len_train) // 2\n",
    "len_test = (len(ds) - len_train) // 2"
   ]
  },
  {
   "cell_type": "code",
   "execution_count": 46,
   "id": "c62280c3",
   "metadata": {},
   "outputs": [],
   "source": [
    "train_ds = torch.utils.data.Subset(ds, range(len_train))\n",
    "valid_ds = torch.utils.data.Subset(ds, range(len_train,len_train+len_valid))\n",
    "test_ds = torch.utils.data.Subset(ds, range(len_train+len_valid, len(ds)))"
   ]
  },
  {
   "cell_type": "code",
   "execution_count": 47,
   "id": "92b8099f",
   "metadata": {},
   "outputs": [],
   "source": [
    "train_dl = DataLoader(train_ds, batch_size=64, shuffle=True)\n",
    "valid_dl = DataLoader(valid_ds, batch_size=64, shuffle=True)\n",
    "test_dl = DataLoader(test_ds, batch_size=64, shuffle=True)"
   ]
  },
  {
   "cell_type": "code",
   "execution_count": 48,
   "id": "b8f08b96",
   "metadata": {},
   "outputs": [],
   "source": [
    "n_epochs=100"
   ]
  },
  {
   "cell_type": "code",
   "execution_count": 49,
   "id": "0ba1ac5d",
   "metadata": {},
   "outputs": [],
   "source": [
    "writer = SummaryWriter()"
   ]
  },
  {
   "cell_type": "code",
   "execution_count": 50,
   "id": "09600d42",
   "metadata": {},
   "outputs": [
    {
     "name": "stdout",
     "output_type": "stream",
     "text": [
      "The tensorboard extension is already loaded. To reload it, use:\n",
      "  %reload_ext tensorboard\n"
     ]
    }
   ],
   "source": [
    "%load_ext tensorboard"
   ]
  },
  {
   "cell_type": "code",
   "execution_count": 51,
   "id": "c0a87c1f",
   "metadata": {},
   "outputs": [
    {
     "data": {
      "text/plain": [
       "ERROR: Failed to launch TensorBoard (exited with 1).\n",
       "Contents of stderr:\n",
       "Traceback (most recent call last):\n",
       "  File \"/usr/local/bin/tensorboard\", line 5, in <module>\n",
       "    from tensorboard.main import run_main\n",
       "  File \"/usr/local/lib/python3.11/site-packages/tensorboard/main.py\", line 27, in <module>\n",
       "    from tensorboard import default\n",
       "  File \"/usr/local/lib/python3.11/site-packages/tensorboard/default.py\", line 33, in <module>\n",
       "    from tensorboard.plugins.audio import audio_plugin\n",
       "  File \"/usr/local/lib/python3.11/site-packages/tensorboard/plugins/audio/audio_plugin.py\", line 25, in <module>\n",
       "    from tensorboard.data import provider\n",
       "  File \"/usr/local/lib/python3.11/site-packages/tensorboard/data/__init__.py\", line 17, in <module>\n",
       "    from tensorboard.data import experimental  # noqa: F401\n",
       "    ^^^^^^^^^^^^^^^^^^^^^^^^^^^^^^^^^^^^^^^^^\n",
       "  File \"/usr/local/lib/python3.11/site-packages/tensorboard/data/experimental/__init__.py\", line 17, in <module>\n",
       "    from tensorboard.data.experimental.experiment_from_dev import (  # noqa: F401\n",
       "  File \"/usr/local/lib/python3.11/site-packages/tensorboard/data/experimental/experiment_from_dev.py\", line 27, in <module>\n",
       "    from tensorboard.uploader import server_info as server_info_lib\n",
       "  File \"/usr/local/lib/python3.11/site-packages/tensorboard/uploader/server_info.py\", line 18, in <module>\n",
       "    from google.protobuf import message\n",
       "ImportError: cannot import name 'message' from 'google.protobuf' (unknown location)"
      ]
     },
     "metadata": {},
     "output_type": "display_data"
    }
   ],
   "source": [
    "%tensorboard --logdir=runs"
   ]
  },
  {
   "cell_type": "code",
   "execution_count": null,
   "id": "1e0ac797",
   "metadata": {},
   "outputs": [
    {
     "name": "stdout",
     "output_type": "stream",
     "text": [
      "Epoch: 0, Training loss: 1.100542, Validation loss: 0.993453, Validation MSE on O2: 0.927950\n"
     ]
    }
   ],
   "source": [
    "model = EncoderDecoderConvLSTM(nf=12, in_chan=8, out_chan=8)\n",
    "\n",
    "optimizer = optim.Adam(model.parameters())\n",
    "\n",
    "loss_fn = nn.MSELoss()\n",
    "\n",
    "def oxygen_mse(y_pred, y_true):\n",
    "    return loss_fn(y_pred[:,:,1,:,:], y_true[:,:,1,:,:])\n",
    "\n",
    "for epoch in range(n_epochs):\n",
    "    for xs, ys in train_dl:\n",
    "        out = model(xs)\n",
    "        train_loss = loss_fn(out, ys)\n",
    "        \n",
    "        optimizer.zero_grad()\n",
    "        train_loss.backward()\n",
    "        optimizer.step()\n",
    "        \n",
    "        writer.add_scalar('Loss/train', train_loss, epoch)\n",
    "\n",
    "        \n",
    "    if epoch % 50 == 0:\n",
    "        torch.save(model.state_dict(), f'./saved_models/model_epoch_{epoch}.pt')\n",
    "        \n",
    "        with torch.no_grad():\n",
    "            xs, ys = next(iter(valid_dl))\n",
    "            out = model(xs)\n",
    "            val_loss = loss_fn(out, ys)\n",
    "            val_o2_loss = oxygen_mse(out, ys)\n",
    "            \n",
    "            writer.add_scalar('Loss/validation', val_loss, epoch)\n",
    "            writer.add_scalar('Loss/oxygen', val_o2_loss, epoch)\n",
    "\n",
    "        print(\"Epoch: %d, Training loss: %f, Validation loss: %f, Validation MSE on O2: %f\" %\n",
    "              (epoch, float(train_loss), float(val_loss), float(val_o2_loss)))"
   ]
  },
  {
   "cell_type": "code",
   "execution_count": null,
   "id": "5bae1bde",
   "metadata": {},
   "outputs": [],
   "source": []
  }
 ],
 "metadata": {
  "kernelspec": {
   "display_name": "deeplearn",
   "language": "python",
   "name": "deeplearn"
  },
  "language_info": {
   "codemirror_mode": {
    "name": "ipython",
    "version": 3
   },
   "file_extension": ".py",
   "mimetype": "text/x-python",
   "name": "python",
   "nbconvert_exporter": "python",
   "pygments_lexer": "ipython3",
   "version": "3.10.0"
  }
 },
 "nbformat": 4,
 "nbformat_minor": 5
}
