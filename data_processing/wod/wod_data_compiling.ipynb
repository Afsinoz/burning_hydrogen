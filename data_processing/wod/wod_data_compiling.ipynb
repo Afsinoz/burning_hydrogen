{
 "cells": [
  {
   "cell_type": "code",
   "execution_count": 5,
   "id": "7b68216e-be48-41cc-a2d5-ce13a258c498",
   "metadata": {},
   "outputs": [
    {
     "name": "stdout",
     "output_type": "stream",
     "text": [
      "<class 'netCDF4._netCDF4.Dataset'>\n",
      "root group (NETCDF3_CLASSIC data model, file format NETCDF3):\n",
      "    dimensions(sizes): casts(134)\n",
      "    variables(dimensions): float32 lat(casts), float32 lon(casts), float64 time(casts), int32 cast(casts)\n",
      "    groups: \n",
      "dict_keys(['lat', 'lon', 'time', 'cast'])\n"
     ]
    }
   ],
   "source": [
    "import netCDF4 as nc\n",
    "\n",
    "# Open the NetCDF file\n",
    "file_path = 'ocldb1723222233.1684134.OSD.nc'  # The local file path\n",
    "dataset = nc.Dataset(file_path, 'r')\n",
    "\n",
    "# Print the dataset metadata\n",
    "print(dataset)\n",
    "\n",
    "# List all the variables in the dataset\n",
    "print(dataset.variables.keys())"
   ]
  }
 ],
 "metadata": {
  "kernelspec": {
   "display_name": "Python 3 (ipykernel)",
   "language": "python",
   "name": "python3"
  },
  "language_info": {
   "codemirror_mode": {
    "name": "ipython",
    "version": 3
   },
   "file_extension": ".py",
   "mimetype": "text/x-python",
   "name": "python",
   "nbconvert_exporter": "python",
   "pygments_lexer": "ipython3",
   "version": "3.12.4"
  }
 },
 "nbformat": 4,
 "nbformat_minor": 5
}
